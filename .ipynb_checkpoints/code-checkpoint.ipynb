{
 "cells": [
  {
   "cell_type": "code",
   "execution_count": 1,
   "id": "0610a03f",
   "metadata": {},
   "outputs": [],
   "source": [
    "import matplotlib.pyplot as plt\n",
    "import numpy as np\n",
    "import pandas as pd\n",
    "%matplotlib inline\n",
    "\n",
    "# Modeling and Forecasting\n",
    "# ==============================================================================\n",
    "from sklearn.linear_model import LinearRegression\n",
    "from sklearn.linear_model import Lasso\n",
    "from sklearn.ensemble import RandomForestRegressor\n",
    "from sklearn.metrics import mean_squared_error\n",
    "from sklearn.preprocessing import StandardScaler\n",
    "from sklearn.pipeline import make_pipeline\n",
    "\n",
    "from skforecast.ForecasterAutoreg import ForecasterAutoreg\n",
    "from skforecast.ForecasterAutoregCustom import ForecasterAutoregCustom\n",
    "from skforecast.ForecasterAutoregDirect import ForecasterAutoregDirect\n",
    "from skforecast.model_selection import grid_search_forecaster\n",
    "from skforecast.model_selection import backtesting_forecaster\n",
    "from skforecast.utils import save_forecaster\n",
    "from skforecast.utils import load_forecaster\n",
    "from datetime import datetime\n",
    "import warnings\n",
    "warnings.filterwarnings('ignore')"
   ]
  },
  {
   "cell_type": "code",
   "execution_count": 2,
   "id": "5e62c938",
   "metadata": {},
   "outputs": [],
   "source": [
    "df = pd.read_excel('voltage_data.xlsx')\n"
   ]
  },
  {
   "cell_type": "code",
   "execution_count": 3,
   "id": "103218e1",
   "metadata": {},
   "outputs": [
    {
     "data": {
      "text/html": [
       "<div>\n",
       "<style scoped>\n",
       "    .dataframe tbody tr th:only-of-type {\n",
       "        vertical-align: middle;\n",
       "    }\n",
       "\n",
       "    .dataframe tbody tr th {\n",
       "        vertical-align: top;\n",
       "    }\n",
       "\n",
       "    .dataframe thead th {\n",
       "        text-align: right;\n",
       "    }\n",
       "</style>\n",
       "<table border=\"1\" class=\"dataframe\">\n",
       "  <thead>\n",
       "    <tr style=\"text-align: right;\">\n",
       "      <th></th>\n",
       "      <th>Date</th>\n",
       "      <th>Time</th>\n",
       "      <th>Vol Conventinal solar panel</th>\n",
       "      <th>Vol Pure Sisal</th>\n",
       "      <th>Vol Sisal + Jute</th>\n",
       "      <th>Vol Coated sisal</th>\n",
       "      <th>Vol Coated Sisal + Jute</th>\n",
       "    </tr>\n",
       "  </thead>\n",
       "  <tbody>\n",
       "    <tr>\n",
       "      <th>0</th>\n",
       "      <td>02.01.23</td>\n",
       "      <td>09:00:00</td>\n",
       "      <td>8.71</td>\n",
       "      <td>6.25</td>\n",
       "      <td>8.51</td>\n",
       "      <td>8.77</td>\n",
       "      <td>7.91</td>\n",
       "    </tr>\n",
       "    <tr>\n",
       "      <th>1</th>\n",
       "      <td>02.01.23</td>\n",
       "      <td>10:00:00</td>\n",
       "      <td>8.36</td>\n",
       "      <td>6.88</td>\n",
       "      <td>8.17</td>\n",
       "      <td>7.11</td>\n",
       "      <td>8.27</td>\n",
       "    </tr>\n",
       "    <tr>\n",
       "      <th>2</th>\n",
       "      <td>02.01.23</td>\n",
       "      <td>11:00:00</td>\n",
       "      <td>8.80</td>\n",
       "      <td>7.04</td>\n",
       "      <td>8.86</td>\n",
       "      <td>8.63</td>\n",
       "      <td>8.46</td>\n",
       "    </tr>\n",
       "    <tr>\n",
       "      <th>3</th>\n",
       "      <td>02.01.23</td>\n",
       "      <td>12:00:00</td>\n",
       "      <td>8.93</td>\n",
       "      <td>7.25</td>\n",
       "      <td>8.84</td>\n",
       "      <td>9.04</td>\n",
       "      <td>8.87</td>\n",
       "    </tr>\n",
       "    <tr>\n",
       "      <th>4</th>\n",
       "      <td>02.01.23</td>\n",
       "      <td>13:00:00</td>\n",
       "      <td>8.96</td>\n",
       "      <td>7.37</td>\n",
       "      <td>8.95</td>\n",
       "      <td>8.94</td>\n",
       "      <td>8.92</td>\n",
       "    </tr>\n",
       "    <tr>\n",
       "      <th>5</th>\n",
       "      <td>02.01.23</td>\n",
       "      <td>14:00:00</td>\n",
       "      <td>8.80</td>\n",
       "      <td>7.46</td>\n",
       "      <td>8.87</td>\n",
       "      <td>8.91</td>\n",
       "      <td>8.83</td>\n",
       "    </tr>\n",
       "    <tr>\n",
       "      <th>6</th>\n",
       "      <td>02.01.23</td>\n",
       "      <td>15:00:00</td>\n",
       "      <td>8.69</td>\n",
       "      <td>6.71</td>\n",
       "      <td>8.55</td>\n",
       "      <td>8.69</td>\n",
       "      <td>8.59</td>\n",
       "    </tr>\n",
       "    <tr>\n",
       "      <th>7</th>\n",
       "      <td>02.01.23</td>\n",
       "      <td>16:00:00</td>\n",
       "      <td>8.02</td>\n",
       "      <td>5.55</td>\n",
       "      <td>7.89</td>\n",
       "      <td>7.95</td>\n",
       "      <td>8.07</td>\n",
       "    </tr>\n",
       "    <tr>\n",
       "      <th>8</th>\n",
       "      <td>02.01.23</td>\n",
       "      <td>17:00:00</td>\n",
       "      <td>7.82</td>\n",
       "      <td>5.17</td>\n",
       "      <td>7.92</td>\n",
       "      <td>8.06</td>\n",
       "      <td>8.10</td>\n",
       "    </tr>\n",
       "    <tr>\n",
       "      <th>9</th>\n",
       "      <td>03.01.23</td>\n",
       "      <td>09:00:00</td>\n",
       "      <td>8.15</td>\n",
       "      <td>6.78</td>\n",
       "      <td>8.05</td>\n",
       "      <td>8.09</td>\n",
       "      <td>8.12</td>\n",
       "    </tr>\n",
       "    <tr>\n",
       "      <th>10</th>\n",
       "      <td>03.01.23</td>\n",
       "      <td>10:00:00</td>\n",
       "      <td>7.94</td>\n",
       "      <td>7.21</td>\n",
       "      <td>8.11</td>\n",
       "      <td>8.17</td>\n",
       "      <td>8.25</td>\n",
       "    </tr>\n",
       "    <tr>\n",
       "      <th>11</th>\n",
       "      <td>03.01.23</td>\n",
       "      <td>11:00:00</td>\n",
       "      <td>8.39</td>\n",
       "      <td>6.90</td>\n",
       "      <td>8.21</td>\n",
       "      <td>8.42</td>\n",
       "      <td>8.47</td>\n",
       "    </tr>\n",
       "    <tr>\n",
       "      <th>12</th>\n",
       "      <td>03.01.23</td>\n",
       "      <td>12:00:00</td>\n",
       "      <td>8.64</td>\n",
       "      <td>4.83</td>\n",
       "      <td>8.00</td>\n",
       "      <td>8.58</td>\n",
       "      <td>8.72</td>\n",
       "    </tr>\n",
       "    <tr>\n",
       "      <th>13</th>\n",
       "      <td>03.01.23</td>\n",
       "      <td>13:00:00</td>\n",
       "      <td>8.85</td>\n",
       "      <td>5.10</td>\n",
       "      <td>8.58</td>\n",
       "      <td>8.84</td>\n",
       "      <td>8.78</td>\n",
       "    </tr>\n",
       "    <tr>\n",
       "      <th>14</th>\n",
       "      <td>03.01.23</td>\n",
       "      <td>14:00:00</td>\n",
       "      <td>8.24</td>\n",
       "      <td>7.84</td>\n",
       "      <td>8.43</td>\n",
       "      <td>8.36</td>\n",
       "      <td>8.48</td>\n",
       "    </tr>\n",
       "    <tr>\n",
       "      <th>15</th>\n",
       "      <td>03.01.23</td>\n",
       "      <td>15:00:00</td>\n",
       "      <td>8.36</td>\n",
       "      <td>7.92</td>\n",
       "      <td>8.37</td>\n",
       "      <td>8.26</td>\n",
       "      <td>8.53</td>\n",
       "    </tr>\n",
       "    <tr>\n",
       "      <th>16</th>\n",
       "      <td>03.01.23</td>\n",
       "      <td>16:00:00</td>\n",
       "      <td>8.23</td>\n",
       "      <td>7.43</td>\n",
       "      <td>8.25</td>\n",
       "      <td>8.17</td>\n",
       "      <td>8.37</td>\n",
       "    </tr>\n",
       "    <tr>\n",
       "      <th>17</th>\n",
       "      <td>03.01.23</td>\n",
       "      <td>17:00:00</td>\n",
       "      <td>7.68</td>\n",
       "      <td>7.26</td>\n",
       "      <td>8.10</td>\n",
       "      <td>8.02</td>\n",
       "      <td>8.22</td>\n",
       "    </tr>\n",
       "    <tr>\n",
       "      <th>18</th>\n",
       "      <td>04.01.23</td>\n",
       "      <td>09:00:00</td>\n",
       "      <td>7.74</td>\n",
       "      <td>6.18</td>\n",
       "      <td>7.83</td>\n",
       "      <td>7.69</td>\n",
       "      <td>7.28</td>\n",
       "    </tr>\n",
       "    <tr>\n",
       "      <th>19</th>\n",
       "      <td>04.01.23</td>\n",
       "      <td>10:00:00</td>\n",
       "      <td>7.95</td>\n",
       "      <td>7.37</td>\n",
       "      <td>8.10</td>\n",
       "      <td>8.05</td>\n",
       "      <td>8.07</td>\n",
       "    </tr>\n",
       "  </tbody>\n",
       "</table>\n",
       "</div>"
      ],
      "text/plain": [
       "       Date       Time  Vol Conventinal solar panel  Vol Pure Sisal   \\\n",
       "0   02.01.23  09:00:00                         8.71             6.25   \n",
       "1   02.01.23  10:00:00                         8.36             6.88   \n",
       "2   02.01.23  11:00:00                         8.80             7.04   \n",
       "3   02.01.23  12:00:00                         8.93             7.25   \n",
       "4   02.01.23  13:00:00                         8.96             7.37   \n",
       "5   02.01.23  14:00:00                         8.80             7.46   \n",
       "6   02.01.23  15:00:00                         8.69             6.71   \n",
       "7   02.01.23  16:00:00                         8.02             5.55   \n",
       "8   02.01.23  17:00:00                         7.82             5.17   \n",
       "9   03.01.23  09:00:00                         8.15             6.78   \n",
       "10  03.01.23  10:00:00                         7.94             7.21   \n",
       "11  03.01.23  11:00:00                         8.39             6.90   \n",
       "12  03.01.23  12:00:00                         8.64             4.83   \n",
       "13  03.01.23  13:00:00                         8.85             5.10   \n",
       "14  03.01.23  14:00:00                         8.24             7.84   \n",
       "15  03.01.23  15:00:00                         8.36             7.92   \n",
       "16  03.01.23  16:00:00                         8.23             7.43   \n",
       "17  03.01.23  17:00:00                         7.68             7.26   \n",
       "18  04.01.23  09:00:00                         7.74             6.18   \n",
       "19  04.01.23  10:00:00                         7.95             7.37   \n",
       "\n",
       "    Vol Sisal + Jute  Vol Coated sisal  Vol Coated Sisal + Jute  \n",
       "0               8.51              8.77                     7.91  \n",
       "1               8.17              7.11                     8.27  \n",
       "2               8.86              8.63                     8.46  \n",
       "3               8.84              9.04                     8.87  \n",
       "4               8.95              8.94                     8.92  \n",
       "5               8.87              8.91                     8.83  \n",
       "6               8.55              8.69                     8.59  \n",
       "7               7.89              7.95                     8.07  \n",
       "8               7.92              8.06                     8.10  \n",
       "9               8.05              8.09                     8.12  \n",
       "10              8.11              8.17                     8.25  \n",
       "11              8.21              8.42                     8.47  \n",
       "12              8.00              8.58                     8.72  \n",
       "13              8.58              8.84                     8.78  \n",
       "14              8.43              8.36                     8.48  \n",
       "15              8.37              8.26                     8.53  \n",
       "16              8.25              8.17                     8.37  \n",
       "17              8.10              8.02                     8.22  \n",
       "18              7.83              7.69                     7.28  \n",
       "19              8.10              8.05                     8.07  "
      ]
     },
     "execution_count": 3,
     "metadata": {},
     "output_type": "execute_result"
    }
   ],
   "source": [
    "df.head(20)"
   ]
  },
  {
   "cell_type": "code",
   "execution_count": 4,
   "id": "8d9f3f37",
   "metadata": {},
   "outputs": [],
   "source": [
    "df.columns=df.columns.str.strip()"
   ]
  },
  {
   "cell_type": "code",
   "execution_count": 5,
   "id": "57372fcf",
   "metadata": {},
   "outputs": [
    {
     "data": {
      "text/plain": [
       "Index(['Date', 'Time', 'Vol Conventinal solar panel', 'Vol Pure Sisal',\n",
       "       'Vol Sisal + Jute', 'Vol Coated sisal', 'Vol Coated Sisal + Jute'],\n",
       "      dtype='object')"
      ]
     },
     "execution_count": 5,
     "metadata": {},
     "output_type": "execute_result"
    }
   ],
   "source": [
    "df.columns "
   ]
  },
  {
   "cell_type": "code",
   "execution_count": 6,
   "id": "edc5ac73",
   "metadata": {},
   "outputs": [],
   "source": [
    "df = df[['Date','Time','Vol Conventinal solar panel']]"
   ]
  },
  {
   "cell_type": "code",
   "execution_count": 7,
   "id": "da9924fa",
   "metadata": {},
   "outputs": [],
   "source": [
    "df['Date_Time'] = df['Date'] + ' ' + df['Time'].astype('str')"
   ]
  },
  {
   "cell_type": "code",
   "execution_count": 8,
   "id": "01c69bc4",
   "metadata": {},
   "outputs": [],
   "source": [
    "df['Date_Time'] = pd.to_datetime(df['Date_Time'], yearfirst=True, dayfirst=False, format='%d.%m.%y %H:%M:%S')\n",
    "\n"
   ]
  },
  {
   "cell_type": "code",
   "execution_count": 9,
   "id": "3304d909",
   "metadata": {},
   "outputs": [],
   "source": [
    "df.drop(['Date','Time'],inplace=True,axis=1)"
   ]
  },
  {
   "cell_type": "code",
   "execution_count": 10,
   "id": "d5459111",
   "metadata": {},
   "outputs": [
    {
     "data": {
      "text/plain": [
       "1"
      ]
     },
     "execution_count": 10,
     "metadata": {},
     "output_type": "execute_result"
    }
   ],
   "source": [
    "df['Date_Time'].iloc[0].month"
   ]
  },
  {
   "cell_type": "code",
   "execution_count": 11,
   "id": "a2ac6f43",
   "metadata": {},
   "outputs": [
    {
     "data": {
      "text/plain": [
       "126"
      ]
     },
     "execution_count": 11,
     "metadata": {},
     "output_type": "execute_result"
    }
   ],
   "source": [
    "df.size"
   ]
  },
  {
   "cell_type": "code",
   "execution_count": 12,
   "id": "e5de54fa",
   "metadata": {},
   "outputs": [],
   "source": [
    "df = df.set_index('Date_Time')\n",
    "df = df.asfreq(freq ='8H')\n",
    "df = df.sort_index()"
   ]
  },
  {
   "cell_type": "code",
   "execution_count": 13,
   "id": "1e5a470e",
   "metadata": {},
   "outputs": [
    {
     "name": "stdout",
     "output_type": "stream",
     "text": [
      "Number of rows with missing values: 0.3\n"
     ]
    }
   ],
   "source": [
    "print(f'Number of rows with missing values: {df.isnull().any(axis=1).mean()}')\n"
   ]
  },
  {
   "cell_type": "code",
   "execution_count": 14,
   "id": "741d8a11",
   "metadata": {},
   "outputs": [],
   "source": [
    "df = df.resample('8H').mean().ffill()"
   ]
  },
  {
   "cell_type": "code",
   "execution_count": 15,
   "id": "d69154cc",
   "metadata": {},
   "outputs": [
    {
     "name": "stdout",
     "output_type": "stream",
     "text": [
      "Train dates : 2023-01-02 08:00:00 --- 2023-01-07 16:00:00  (n=17)\n",
      "Test dates  : 2023-01-08 00:00:00 --- 2023-01-08 16:00:00  (n=3)\n"
     ]
    },
    {
     "data": {
      "image/png": "[encoded data removed]",
      "text/plain": [
       "<Figure size 900x400 with 1 Axes>"
      ]
     },
     "metadata": {},
     "output_type": "display_data"
    }
   ],
   "source": [
    "# Split data into train-test\n",
    "# ==============================================================================\n",
    "steps = 3\n",
    "data_train = df[:-steps]\n",
    "data_test  = df[-steps:]\n",
    "\n",
    "print(f\"Train dates : {data_train.index.min()} --- {data_train.index.max()}  (n={len(data_train)})\")\n",
    "print(f\"Test dates  : {data_test.index.min()} --- {data_test.index.max()}  (n={len(data_test)})\")\n",
    "\n",
    "fig, ax=plt.subplots(figsize=(9, 4))\n",
    "data_train['y'].plot(ax=ax, label='train')\n",
    "data_test['y'].plot(ax=ax, label='test')\n",
    "ax.legend();"
   ]
  },
  {
   "cell_type": "code",
   "execution_count": 16,
   "id": "15e046f8",
   "metadata": {},
   "outputs": [
    {
     "data": {
      "text/plain": [
       "================= \n",
       "ForecasterAutoreg \n",
       "================= \n",
       "Regressor: RandomForestRegressor(max_depth=10, random_state=123) \n",
       "Lags: [1 2 3 4] \n",
       "Transformer for y: None \n",
       "Transformer for exog: None \n",
       "Window size: 4 \n",
       "Weight function included: False \n",
       "Exogenous included: False \n",
       "Type of exogenous variable: None \n",
       "Exogenous variables names: None \n",
       "Training range: [Timestamp('2023-01-02 08:00:00'), Timestamp('2023-01-07 16:00:00')] \n",
       "Training index type: DatetimeIndex \n",
       "Training index frequency: 8H \n",
       "Regressor parameters: {'bootstrap': True, 'ccp_alpha': 0.0, 'criterion': 'squared_error', 'max_depth': 10, 'max_features': 1.0, 'max_leaf_nodes': None, 'max_samples': None, 'min_impurity_decrease': 0.0, 'min_samples_leaf': 1, 'min_samples_split': 2, 'min_weight_fraction_leaf': 0.0, 'n_estimators': 100, 'n_jobs': None, 'oob_score': False, 'random_state': 123, 'verbose': 0, 'warm_start': False} \n",
       "Creation date: 2023-01-12 10:05:34 \n",
       "Last fit date: 2023-01-12 10:05:34 \n",
       "Skforecast version: 0.6.0 \n",
       "Python version: 3.9.7 "
      ]
     },
     "execution_count": 16,
     "metadata": {},
     "output_type": "execute_result"
    }
   ],
   "source": [
    "# Create and train forecaster\n",
    "# ==============================================================================\n",
    "forecaster = ForecasterAutoreg(\n",
    "                regressor = RandomForestRegressor(random_state=123,n_estimators= 100,\n",
    "              max_depth=  10),\n",
    "                lags = 4\n",
    "             )\n",
    "\n",
    "forecaster.fit(y=data_train['y'])\n",
    "forecaster"
   ]
  },
  {
   "cell_type": "code",
   "execution_count": 21,
   "id": "430d2147",
   "metadata": {},
   "outputs": [
    {
     "data": {
      "text/html": [
       "<div>\n",
       "<style scoped>\n",
       "    .dataframe tbody tr th:only-of-type {\n",
       "        vertical-align: middle;\n",
       "    }\n",
       "\n",
       "    .dataframe tbody tr th {\n",
       "        vertical-align: top;\n",
       "    }\n",
       "\n",
       "    .dataframe thead th {\n",
       "        text-align: right;\n",
       "    }\n",
       "</style>\n",
       "<table border=\"1\" class=\"dataframe\">\n",
       "  <thead>\n",
       "    <tr style=\"text-align: right;\">\n",
       "      <th></th>\n",
       "      <th>y</th>\n",
       "    </tr>\n",
       "    <tr>\n",
       "      <th>Date_Time</th>\n",
       "      <th></th>\n",
       "    </tr>\n",
       "  </thead>\n",
       "  <tbody>\n",
       "    <tr>\n",
       "      <th>2023-01-07 08:00:00</th>\n",
       "      <td>8.22</td>\n",
       "    </tr>\n",
       "    <tr>\n",
       "      <th>2023-01-07 16:00:00</th>\n",
       "      <td>7.95</td>\n",
       "    </tr>\n",
       "    <tr>\n",
       "      <th>2023-01-08 00:00:00</th>\n",
       "      <td>7.95</td>\n",
       "    </tr>\n",
       "    <tr>\n",
       "      <th>2023-01-08 08:00:00</th>\n",
       "      <td>7.45</td>\n",
       "    </tr>\n",
       "    <tr>\n",
       "      <th>2023-01-08 16:00:00</th>\n",
       "      <td>7.82</td>\n",
       "    </tr>\n",
       "  </tbody>\n",
       "</table>\n",
       "</div>"
      ],
      "text/plain": [
       "                        y\n",
       "Date_Time                \n",
       "2023-01-07 08:00:00  8.22\n",
       "2023-01-07 16:00:00  7.95\n",
       "2023-01-08 00:00:00  7.95\n",
       "2023-01-08 08:00:00  7.45\n",
       "2023-01-08 16:00:00  7.82"
      ]
     },
     "execution_count": 21,
     "metadata": {},
     "output_type": "execute_result"
    }
   ],
   "source": [
    "df.tail()"
   ]
  },
  {
   "cell_type": "code",
   "execution_count": 17,
   "id": "cbeca27c",
   "metadata": {},
   "outputs": [
    {
     "data": {
      "text/plain": [
       "2023-01-08 00:00:00    7.8297\n",
       "2023-01-08 08:00:00    8.0415\n",
       "2023-01-08 16:00:00    7.9034\n",
       "Freq: 8H, Name: pred, dtype: float64"
      ]
     },
     "execution_count": 17,
     "metadata": {},
     "output_type": "execute_result"
    }
   ],
   "source": [
    "steps = 3\n",
    "predictions = forecaster.predict(steps=steps)\n",
    "predictions"
   ]
  },
  {
   "cell_type": "code",
   "execution_count": 18,
   "id": "f390cb0f",
   "metadata": {},
   "outputs": [
    {
     "name": "stdout",
     "output_type": "stream",
     "text": [
      "Test error (mse): 0.1237666333333367\n"
     ]
    }
   ],
   "source": [
    "# Test error\n",
    "# ==============================================================================\n",
    "error_mse = mean_squared_error(\n",
    "                y_true = data_test['y'],\n",
    "                y_pred = predictions\n",
    "            )\n",
    "\n",
    "print(f\"Test error (mse): {error_mse}\")"
   ]
  },
  {
   "cell_type": "code",
   "execution_count": 19,
   "id": "c07639c2",
   "metadata": {},
   "outputs": [
    {
     "ename": "IndentationError",
     "evalue": "expected an indented block (958479711.py, line 2)",
     "output_type": "error",
     "traceback": [
      "\u001b[1;36m  Cell \u001b[1;32mIn[19], line 2\u001b[1;36m\u001b[0m\n\u001b[1;33m    \u001b[0m\n\u001b[1;37m    ^\u001b[0m\n\u001b[1;31mIndentationError\u001b[0m\u001b[1;31m:\u001b[0m expected an indented block\n"
     ]
    }
   ],
   "source": [
    "def voltage_prediction(column_predict,steps):\n",
    "    df = df.rename(columns={column_predict: 'y'})\n",
    "\n",
    "    "
   ]
  }
 ],
 "metadata": {
  "kernelspec": {
   "display_name": "Python 3 (ipykernel)",
   "language": "python",
   "name": "python3"
  },
  "language_info": {
   "codemirror_mode": {
    "name": "ipython",
    "version": 3
   },
   "file_extension": ".py",
   "mimetype": "text/x-python",
   "name": "python",
   "nbconvert_exporter": "python",
   "pygments_lexer": "ipython3",
   "version": "3.9.7"
  }
 },
 "nbformat": 4,
 "nbformat_minor": 5
}
